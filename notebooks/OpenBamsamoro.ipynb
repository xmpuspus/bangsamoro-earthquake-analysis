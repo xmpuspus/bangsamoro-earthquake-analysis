{
  "nbformat": 4,
  "nbformat_minor": 0,
  "metadata": {
    "colab": {
      "name": "OpenBamsamoro.ipynb",
      "provenance": [],
      "collapsed_sections": []
    },
    "kernelspec": {
      "name": "python3",
      "display_name": "Python 3"
    }
  },
  "cells": [
    {
      "cell_type": "code",
      "metadata": {
        "id": "J4mCPRWHH4Bq",
        "colab_type": "code",
        "outputId": "93398e6e-73c2-4970-f5a0-cd1837b544f2",
        "colab": {
          "base_uri": "https://localhost:8080/",
          "height": 481
        }
      },
      "source": [
        "!pip install geopandas"
      ],
      "execution_count": 0,
      "outputs": [
        {
          "output_type": "stream",
          "text": [
            "Collecting geopandas\n",
            "\u001b[?25l  Downloading https://files.pythonhosted.org/packages/5b/0c/e6c99e561b03482220f00443f610ccf4dce9b50f4b1093d735f93c6fc8c6/geopandas-0.6.2-py2.py3-none-any.whl (919kB)\n",
            "\u001b[K     |████████████████████████████████| 921kB 5.1MB/s \n",
            "\u001b[?25hCollecting pyproj\n",
            "\u001b[?25l  Downloading https://files.pythonhosted.org/packages/d6/70/eedc98cd52b86de24a1589c762612a98bea26cde649ffdd60c1db396cce8/pyproj-2.4.2.post1-cp36-cp36m-manylinux2010_x86_64.whl (10.1MB)\n",
            "\u001b[K     |████████████████████████████████| 10.1MB 41.7MB/s \n",
            "\u001b[?25hRequirement already satisfied: pandas>=0.23.0 in /usr/local/lib/python3.6/dist-packages (from geopandas) (0.25.3)\n",
            "Collecting fiona\n",
            "\u001b[?25l  Downloading https://files.pythonhosted.org/packages/a6/8f/abad0244b2872fca20e49b149c6680a89171c3af9735e9dfa7eb33cc187a/Fiona-1.8.11-cp36-cp36m-manylinux1_x86_64.whl (11.8MB)\n",
            "\u001b[K     |████████████████████████████████| 11.8MB 194kB/s \n",
            "\u001b[?25hRequirement already satisfied: shapely in /usr/local/lib/python3.6/dist-packages (from geopandas) (1.6.4.post2)\n",
            "Requirement already satisfied: numpy>=1.13.3 in /usr/local/lib/python3.6/dist-packages (from pandas>=0.23.0->geopandas) (1.17.4)\n",
            "Requirement already satisfied: pytz>=2017.2 in /usr/local/lib/python3.6/dist-packages (from pandas>=0.23.0->geopandas) (2018.9)\n",
            "Requirement already satisfied: python-dateutil>=2.6.1 in /usr/local/lib/python3.6/dist-packages (from pandas>=0.23.0->geopandas) (2.6.1)\n",
            "Requirement already satisfied: attrs>=17 in /usr/local/lib/python3.6/dist-packages (from fiona->geopandas) (19.3.0)\n",
            "Collecting munch\n",
            "  Downloading https://files.pythonhosted.org/packages/cc/ab/85d8da5c9a45e072301beb37ad7f833cd344e04c817d97e0cc75681d248f/munch-2.5.0-py2.py3-none-any.whl\n",
            "Requirement already satisfied: click<8,>=4.0 in /usr/local/lib/python3.6/dist-packages (from fiona->geopandas) (7.0)\n",
            "Requirement already satisfied: six>=1.7 in /usr/local/lib/python3.6/dist-packages (from fiona->geopandas) (1.12.0)\n",
            "Collecting cligj>=0.5\n",
            "  Downloading https://files.pythonhosted.org/packages/e4/be/30a58b4b0733850280d01f8bd132591b4668ed5c7046761098d665ac2174/cligj-0.5.0-py3-none-any.whl\n",
            "Collecting click-plugins>=1.0\n",
            "  Downloading https://files.pythonhosted.org/packages/e9/da/824b92d9942f4e472702488857914bdd50f73021efea15b4cad9aca8ecef/click_plugins-1.1.1-py2.py3-none-any.whl\n",
            "Installing collected packages: pyproj, munch, cligj, click-plugins, fiona, geopandas\n",
            "Successfully installed click-plugins-1.1.1 cligj-0.5.0 fiona-1.8.11 geopandas-0.6.2 munch-2.5.0 pyproj-2.4.2.post1\n"
          ],
          "name": "stdout"
        }
      ]
    },
    {
      "cell_type": "code",
      "metadata": {
        "id": "42aJJgngnEte",
        "colab_type": "code",
        "colab": {}
      },
      "source": [
        "# !unzip ARMM_landslide_susceptibility.zip"
      ],
      "execution_count": 0,
      "outputs": []
    },
    {
      "cell_type": "code",
      "metadata": {
        "id": "gv-8LIBiHyl7",
        "colab_type": "code",
        "colab": {}
      },
      "source": [
        "import geopandas as gpd"
      ],
      "execution_count": 0,
      "outputs": []
    },
    {
      "cell_type": "markdown",
      "metadata": {
        "id": "VeqCdLozn6MN",
        "colab_type": "text"
      },
      "source": [
        "# Faultlines"
      ]
    },
    {
      "cell_type": "code",
      "metadata": {
        "id": "gOPw2mfBH00L",
        "colab_type": "code",
        "colab": {}
      },
      "source": [
        "fp = \"ARMM_Faultlines_UTM51N_PhiVolcs.shp\"\n",
        "data = gpd.read_file(fp, SHAPE_RESTORE_SHX='YES')"
      ],
      "execution_count": 0,
      "outputs": []
    },
    {
      "cell_type": "code",
      "metadata": {
        "id": "fKJ2BfURIGAQ",
        "colab_type": "code",
        "outputId": "a81c19f0-d96e-4347-ce08-f4a5ec540c7f",
        "colab": {
          "base_uri": "https://localhost:8080/",
          "height": 34
        }
      },
      "source": [
        "type(data)"
      ],
      "execution_count": 0,
      "outputs": [
        {
          "output_type": "execute_result",
          "data": {
            "text/plain": [
              "geopandas.geodataframe.GeoDataFrame"
            ]
          },
          "metadata": {
            "tags": []
          },
          "execution_count": 4
        }
      ]
    },
    {
      "cell_type": "code",
      "metadata": {
        "id": "zc2XTmvmId0y",
        "colab_type": "code",
        "outputId": "c4cab84c-eb13-4bb8-d472-5b127bf95ad5",
        "colab": {
          "base_uri": "https://localhost:8080/",
          "height": 197
        }
      },
      "source": [
        "data.head()"
      ],
      "execution_count": 0,
      "outputs": [
        {
          "output_type": "execute_result",
          "data": {
            "text/html": [
              "<div>\n",
              "<style scoped>\n",
              "    .dataframe tbody tr th:only-of-type {\n",
              "        vertical-align: middle;\n",
              "    }\n",
              "\n",
              "    .dataframe tbody tr th {\n",
              "        vertical-align: top;\n",
              "    }\n",
              "\n",
              "    .dataframe thead th {\n",
              "        text-align: right;\n",
              "    }\n",
              "</style>\n",
              "<table border=\"1\" class=\"dataframe\">\n",
              "  <thead>\n",
              "    <tr style=\"text-align: right;\">\n",
              "      <th></th>\n",
              "      <th>OBJECTID</th>\n",
              "      <th>Id</th>\n",
              "      <th>NAME</th>\n",
              "      <th>DESC_</th>\n",
              "      <th>Shape_Leng</th>\n",
              "      <th>geometry</th>\n",
              "    </tr>\n",
              "  </thead>\n",
              "  <tbody>\n",
              "    <tr>\n",
              "      <th>0</th>\n",
              "      <td>3</td>\n",
              "      <td>0</td>\n",
              "      <td>Cotabato Trench</td>\n",
              "      <td>Trench</td>\n",
              "      <td>298585.876045</td>\n",
              "      <td>LINESTRING (125.00506 4.97782, 124.93018 5.053...</td>\n",
              "    </tr>\n",
              "    <tr>\n",
              "      <th>1</th>\n",
              "      <td>4</td>\n",
              "      <td>0</td>\n",
              "      <td>None</td>\n",
              "      <td>Collision zone</td>\n",
              "      <td>50092.723774</td>\n",
              "      <td>LINESTRING (123.58955 6.86976, 123.59984 7.050...</td>\n",
              "    </tr>\n",
              "    <tr>\n",
              "      <th>2</th>\n",
              "      <td>13</td>\n",
              "      <td>0</td>\n",
              "      <td>None</td>\n",
              "      <td>Trace approximate</td>\n",
              "      <td>37496.352170</td>\n",
              "      <td>LINESTRING (124.58552 5.99539, 124.53556 6.072...</td>\n",
              "    </tr>\n",
              "    <tr>\n",
              "      <th>3</th>\n",
              "      <td>76</td>\n",
              "      <td>0</td>\n",
              "      <td>None</td>\n",
              "      <td>Trace approximate</td>\n",
              "      <td>9474.239050</td>\n",
              "      <td>LINESTRING (121.89579 7.23863, 121.95799 7.17961)</td>\n",
              "    </tr>\n",
              "    <tr>\n",
              "      <th>4</th>\n",
              "      <td>77</td>\n",
              "      <td>0</td>\n",
              "      <td>Zamboanga Fault System</td>\n",
              "      <td>Active Fault</td>\n",
              "      <td>20528.987986</td>\n",
              "      <td>LINESTRING (122.07615 7.33764, 122.11295 7.281...</td>\n",
              "    </tr>\n",
              "  </tbody>\n",
              "</table>\n",
              "</div>"
            ],
            "text/plain": [
              "   OBJECTID  ...                                           geometry\n",
              "0         3  ...  LINESTRING (125.00506 4.97782, 124.93018 5.053...\n",
              "1         4  ...  LINESTRING (123.58955 6.86976, 123.59984 7.050...\n",
              "2        13  ...  LINESTRING (124.58552 5.99539, 124.53556 6.072...\n",
              "3        76  ...  LINESTRING (121.89579 7.23863, 121.95799 7.17961)\n",
              "4        77  ...  LINESTRING (122.07615 7.33764, 122.11295 7.281...\n",
              "\n",
              "[5 rows x 6 columns]"
            ]
          },
          "metadata": {
            "tags": []
          },
          "execution_count": 5
        }
      ]
    },
    {
      "cell_type": "code",
      "metadata": {
        "id": "kFuBmh85Ifza",
        "colab_type": "code",
        "outputId": "a9dcc51a-1082-4c8b-a05e-1c21341b0a58",
        "colab": {
          "base_uri": "https://localhost:8080/",
          "height": 262
        }
      },
      "source": [
        "data.plot()"
      ],
      "execution_count": 0,
      "outputs": [
        {
          "output_type": "execute_result",
          "data": {
            "text/plain": [
              "<matplotlib.axes._subplots.AxesSubplot at 0x7f87fa8d9048>"
            ]
          },
          "metadata": {
            "tags": []
          },
          "execution_count": 6
        },
        {
          "output_type": "display_data",
          "data": {
            "image/png": "[encoded data removed]",
            "text/plain": [
              "<Figure size 432x288 with 1 Axes>"
            ]
          },
          "metadata": {
            "tags": []
          }
        }
      ]
    },
    {
      "cell_type": "code",
      "metadata": {
        "id": "Qw-jg6JZd_hd",
        "colab_type": "code",
        "colab": {}
      },
      "source": [
        "import pandas as pd"
      ],
      "execution_count": 0,
      "outputs": []
    },
    {
      "cell_type": "code",
      "metadata": {
        "id": "hxsWHjAUd9C5",
        "colab_type": "code",
        "colab": {}
      },
      "source": [
        "df = pd.DataFrame(data)"
      ],
      "execution_count": 0,
      "outputs": []
    },
    {
      "cell_type": "code",
      "metadata": {
        "id": "uWTtEnFAd-0l",
        "colab_type": "code",
        "colab": {}
      },
      "source": [
        "df.to_csv('ARMM_faultlines.csv', index=False)"
      ],
      "execution_count": 0,
      "outputs": []
    },
    {
      "cell_type": "markdown",
      "metadata": {
        "id": "iq9o621En4Vc",
        "colab_type": "text"
      },
      "source": [
        "# Landslide"
      ]
    },
    {
      "cell_type": "code",
      "metadata": {
        "id": "k-1TXR6lJeRf",
        "colab_type": "code",
        "colab": {}
      },
      "source": [
        "fp = \"Hazards - Landslide susceptibility in ARMM (UP NOAH, 2018)/Hazards - Landslide - Tawi-Tawi - UP NOAH/Hazards - Landslide - Tawi-Tawi - UP NOAH.shp\"\n",
        "data = gpd.read_file(fp, SHAPE_RESTORE_SHX='YES')"
      ],
      "execution_count": 0,
      "outputs": []
    },
    {
      "cell_type": "code",
      "metadata": {
        "id": "P7S75JmbtscJ",
        "colab_type": "code",
        "colab": {}
      },
      "source": [
        "data.to_file(\"tawi_tawi_landslide.json\", driver=\"GeoJSON\")"
      ],
      "execution_count": 0,
      "outputs": []
    },
    {
      "cell_type": "code",
      "metadata": {
        "id": "2s-Clk87oQ37",
        "colab_type": "code",
        "outputId": "c71f4225-64ef-43ad-b662-1ebc158b70ac",
        "colab": {
          "base_uri": "https://localhost:8080/",
          "height": 282
        }
      },
      "source": [
        "data.plot()"
      ],
      "execution_count": 0,
      "outputs": [
        {
          "output_type": "execute_result",
          "data": {
            "text/plain": [
              "<matplotlib.axes._subplots.AxesSubplot at 0x7f87f69c89b0>"
            ]
          },
          "metadata": {
            "tags": []
          },
          "execution_count": 31
        },
        {
          "output_type": "display_data",
          "data": {
            "image/png": "[encoded data removed]",
            "text/plain": [
              "<Figure size 432x288 with 1 Axes>"
            ]
          },
          "metadata": {
            "tags": []
          }
        }
      ]
    },
    {
      "cell_type": "code",
      "metadata": {
        "id": "WUfFMT5QoSrp",
        "colab_type": "code",
        "outputId": "b60e9f76-f5b1-41fe-ea3e-bfcad5f83742",
        "colab": {
          "base_uri": "https://localhost:8080/",
          "height": 137
        }
      },
      "source": [
        "data.head()"
      ],
      "execution_count": 0,
      "outputs": [
        {
          "output_type": "execute_result",
          "data": {
            "text/html": [
              "<div>\n",
              "<style scoped>\n",
              "    .dataframe tbody tr th:only-of-type {\n",
              "        vertical-align: middle;\n",
              "    }\n",
              "\n",
              "    .dataframe tbody tr th {\n",
              "        vertical-align: top;\n",
              "    }\n",
              "\n",
              "    .dataframe thead th {\n",
              "        text-align: right;\n",
              "    }\n",
              "</style>\n",
              "<table border=\"1\" class=\"dataframe\">\n",
              "  <thead>\n",
              "    <tr style=\"text-align: right;\">\n",
              "      <th></th>\n",
              "      <th>GRIDCODE</th>\n",
              "      <th>geometry</th>\n",
              "    </tr>\n",
              "  </thead>\n",
              "  <tbody>\n",
              "    <tr>\n",
              "      <th>0</th>\n",
              "      <td>2</td>\n",
              "      <td>MULTIPOLYGON (((110534.457 534541.506, 110531....</td>\n",
              "    </tr>\n",
              "    <tr>\n",
              "      <th>1</th>\n",
              "      <td>3</td>\n",
              "      <td>MULTIPOLYGON (((110758.539 534504.885, 110749....</td>\n",
              "    </tr>\n",
              "    <tr>\n",
              "      <th>2</th>\n",
              "      <td>4</td>\n",
              "      <td>MULTIPOLYGON (((151539.027 530594.201, 151544....</td>\n",
              "    </tr>\n",
              "  </tbody>\n",
              "</table>\n",
              "</div>"
            ],
            "text/plain": [
              "   GRIDCODE                                           geometry\n",
              "0         2  MULTIPOLYGON (((110534.457 534541.506, 110531....\n",
              "1         3  MULTIPOLYGON (((110758.539 534504.885, 110749....\n",
              "2         4  MULTIPOLYGON (((151539.027 530594.201, 151544...."
            ]
          },
          "metadata": {
            "tags": []
          },
          "execution_count": 32
        }
      ]
    },
    {
      "cell_type": "code",
      "metadata": {
        "id": "51rqBsSzodWh",
        "colab_type": "code",
        "outputId": "35136241-e2fa-4228-cb75-05b8a8182c93",
        "colab": {
          "base_uri": "https://localhost:8080/",
          "height": 34
        }
      },
      "source": [
        "data.shape"
      ],
      "execution_count": 0,
      "outputs": [
        {
          "output_type": "execute_result",
          "data": {
            "text/plain": [
              "(3, 2)"
            ]
          },
          "metadata": {
            "tags": []
          },
          "execution_count": 33
        }
      ]
    },
    {
      "cell_type": "code",
      "metadata": {
        "id": "EnWNTixGofJQ",
        "colab_type": "code",
        "colab": {}
      },
      "source": [
        "pd.DataFrame(data).to_csv(\"landslide_tawi_tawi.csv\", index=False)"
      ],
      "execution_count": 0,
      "outputs": []
    },
    {
      "cell_type": "code",
      "metadata": {
        "id": "tlRurDtyoviQ",
        "colab_type": "code",
        "colab": {}
      },
      "source": [
        "from google.colab import files"
      ],
      "execution_count": 0,
      "outputs": []
    },
    {
      "cell_type": "code",
      "metadata": {
        "id": "DGsmlWCVqod_",
        "colab_type": "code",
        "colab": {}
      },
      "source": [
        "files.download('landslide_maguindanao.csv')"
      ],
      "execution_count": 0,
      "outputs": []
    },
    {
      "cell_type": "markdown",
      "metadata": {
        "id": "21VL0QD5Oq0E",
        "colab_type": "text"
      },
      "source": [
        "# Roads"
      ]
    },
    {
      "cell_type": "code",
      "metadata": {
        "id": "swtjIQDCqqPi",
        "colab_type": "code",
        "outputId": "998ed984-bec8-495c-da8f-c9aa6b8eb328",
        "colab": {
          "base_uri": "https://localhost:8080/",
          "height": 158
        }
      },
      "source": [
        "!unzip ARMM_roads_OSM.zip"
      ],
      "execution_count": 0,
      "outputs": [
        {
          "output_type": "stream",
          "text": [
            "Archive:  ARMM_roads_OSM.zip\n",
            " extracting: InfraRoadsARMMOSM2019.CPG  \n",
            "  inflating: InfraRoadsARMMOSM2019.dbf  \n",
            "  inflating: InfraRoadsARMMOSM2019.prj  \n",
            "  inflating: InfraRoadsARMMOSM2019.shp  \n",
            "  inflating: InfraRoadsARMMOSM2019.shp.xml  \n",
            "  inflating: InfraRoadsARMMOSM2019.shx  \n",
            "  inflating: InfraRoadsARMMOSM2019.txt  \n"
          ],
          "name": "stdout"
        }
      ]
    },
    {
      "cell_type": "code",
      "metadata": {
        "id": "Kv6IQuGaOnG1",
        "colab_type": "code",
        "colab": {}
      },
      "source": [
        "fp = \"InfraRoadsARMMOSM2019.shp\"\n",
        "data = gpd.read_file(fp, SHAPE_RESTORE_SHX='YES')"
      ],
      "execution_count": 0,
      "outputs": []
    },
    {
      "cell_type": "code",
      "metadata": {
        "id": "Q6TgjJ8COzqw",
        "colab_type": "code",
        "outputId": "14096278-500e-46bb-ba68-e14c9617c60c",
        "colab": {
          "base_uri": "https://localhost:8080/",
          "height": 245
        }
      },
      "source": [
        "data.plot()"
      ],
      "execution_count": 0,
      "outputs": [
        {
          "output_type": "execute_result",
          "data": {
            "text/plain": [
              "<matplotlib.axes._subplots.AxesSubplot at 0x7f87f69954a8>"
            ]
          },
          "metadata": {
            "tags": []
          },
          "execution_count": 40
        },
        {
          "output_type": "display_data",
          "data": {
            "image/png": "[encoded data removed]",
            "text/plain": [
              "<Figure size 432x288 with 1 Axes>"
            ]
          },
          "metadata": {
            "tags": []
          }
        }
      ]
    },
    {
      "cell_type": "code",
      "metadata": {
        "id": "dIL-RX4ZO0qe",
        "colab_type": "code",
        "colab": {}
      },
      "source": [
        "data.to_csv('ARMM_roads.csv', index=False)"
      ],
      "execution_count": 0,
      "outputs": []
    },
    {
      "cell_type": "markdown",
      "metadata": {
        "id": "LFnpGZMTO5cT",
        "colab_type": "text"
      },
      "source": [
        "# Seaports"
      ]
    },
    {
      "cell_type": "code",
      "metadata": {
        "id": "mxqCKSMMRmhy",
        "colab_type": "code",
        "outputId": "0af61677-fb11-4432-bbff-dca59c011490",
        "colab": {
          "base_uri": "https://localhost:8080/",
          "height": 158
        }
      },
      "source": [
        "!unzip seaports_arrm.zip"
      ],
      "execution_count": 0,
      "outputs": [
        {
          "output_type": "stream",
          "text": [
            "Archive:  seaports_arrm.zip\n",
            " extracting: InfraSeaportMindanaoDPWH.cpg  \n",
            "  inflating: InfraSeaportMindanaoDPWH.dbf  \n",
            "  inflating: InfraSeaportMindanaoDPWH.prj  \n",
            "  inflating: InfraSeaportMindanaoDPWH.qpj  \n",
            "  inflating: InfraSeaportMindanaoDPWH.shp  \n",
            "  inflating: InfraSeaportMindanaoDPWH.shx  \n",
            "  inflating: InfraSeaportMindanaoDPWH.txt  \n"
          ],
          "name": "stdout"
        }
      ]
    },
    {
      "cell_type": "code",
      "metadata": {
        "id": "WmWVCY3aRu_a",
        "colab_type": "code",
        "colab": {}
      },
      "source": [
        "fp = \"InfraSeaportMindanaoDPWH.shp\"\n",
        "data = gpd.read_file(fp, SHAPE_RESTORE_SHX='YES')"
      ],
      "execution_count": 0,
      "outputs": []
    },
    {
      "cell_type": "code",
      "metadata": {
        "id": "uszIL30QRzQ3",
        "colab_type": "code",
        "outputId": "3bc31306-6c00-4280-c134-29c5b2dcce60",
        "colab": {
          "base_uri": "https://localhost:8080/",
          "height": 285
        }
      },
      "source": [
        "data.plot()"
      ],
      "execution_count": 0,
      "outputs": [
        {
          "output_type": "execute_result",
          "data": {
            "text/plain": [
              "<matplotlib.axes._subplots.AxesSubplot at 0x7f87f6101748>"
            ]
          },
          "metadata": {
            "tags": []
          },
          "execution_count": 44
        },
        {
          "output_type": "display_data",
          "data": {
            "image/png": "[encoded data removed]",
            "text/plain": [
              "<Figure size 432x288 with 1 Axes>"
            ]
          },
          "metadata": {
            "tags": []
          }
        }
      ]
    },
    {
      "cell_type": "code",
      "metadata": {
        "id": "kM0ZFSgsR1H1",
        "colab_type": "code",
        "colab": {}
      },
      "source": [
        "pd.DataFrame(data).to_csv('armm_seaports.csv', index=False)"
      ],
      "execution_count": 0,
      "outputs": []
    },
    {
      "cell_type": "markdown",
      "metadata": {
        "id": "0R5ObYx_R7TS",
        "colab_type": "text"
      },
      "source": [
        "# Airports"
      ]
    },
    {
      "cell_type": "code",
      "metadata": {
        "id": "C4GYiVrJR-ur",
        "colab_type": "code",
        "outputId": "ec6864e3-809d-4711-8ec1-e76bfd353fd3",
        "colab": {
          "base_uri": "https://localhost:8080/",
          "height": 141
        }
      },
      "source": [
        "!unzip armm_airports.zip"
      ],
      "execution_count": 0,
      "outputs": [
        {
          "output_type": "stream",
          "text": [
            "Archive:  armm_airports.zip\n",
            " extracting: InfraAirportMindanaoDPWH.CPG  \n",
            "  inflating: InfraAirportMindanaoDPWH.dbf  \n",
            "  inflating: InfraAirportMindanaoDPWH.prj  \n",
            "  inflating: InfraAirportMindanaoDPWH.shp  \n",
            "  inflating: InfraAirportMindanaoDPWH.shx  \n",
            "  inflating: InfraAirportMindanaoDPWH.txt  \n"
          ],
          "name": "stdout"
        }
      ]
    },
    {
      "cell_type": "code",
      "metadata": {
        "id": "FaQ1gsLnSL0A",
        "colab_type": "code",
        "colab": {}
      },
      "source": [
        "fp = \"InfraAirportMindanaoDPWH.shp\"\n",
        "data = gpd.read_file(fp, SHAPE_RESTORE_SHX='YES')"
      ],
      "execution_count": 0,
      "outputs": []
    },
    {
      "cell_type": "code",
      "metadata": {
        "id": "djBE3tEiSOgj",
        "colab_type": "code",
        "colab": {}
      },
      "source": [
        "pd.DataFrame(data).to_csv('armm_airports.csv', index=False)"
      ],
      "execution_count": 0,
      "outputs": []
    },
    {
      "cell_type": "markdown",
      "metadata": {
        "id": "LS3LN2CRSQSy",
        "colab_type": "text"
      },
      "source": [
        "# Schools"
      ]
    },
    {
      "cell_type": "code",
      "metadata": {
        "id": "lnC7BK60WeCo",
        "colab_type": "code",
        "outputId": "243feaa1-bdd4-416a-a04d-19b554ce951b",
        "colab": {
          "base_uri": "https://localhost:8080/",
          "height": 265
        }
      },
      "source": [
        "!unrar x NumSchoolsMuniARMMDEPED2017.rar"
      ],
      "execution_count": 0,
      "outputs": [
        {
          "output_type": "stream",
          "text": [
            "\n",
            "UNRAR 5.50 freeware      Copyright (c) 1993-2017 Alexander Roshal\n",
            "\n",
            "\n",
            "Extracting from NumSchoolsMuniARMMDEPED2017.rar\n",
            "\n",
            "Extracting  NumSchoolsMuniARMMDEPED2017.txt                              \b\b\b\b  0%\b\b\b\b\b  OK \n",
            "Extracting  NumSchoolsMuniARMMDEPED2017.cpg                              \b\b\b\b  0%\b\b\b\b\b  OK \n",
            "Extracting  NumSchoolsMuniARMMDEPED2017.dbf                              \b\b\b\b  0%\b\b\b\b\b  OK \n",
            "Extracting  NumSchoolsMuniARMMDEPED2017.prj                              \b\b\b\b  0%\b\b\b\b\b  OK \n",
            "Extracting  NumSchoolsMuniARMMDEPED2017.qpj                              \b\b\b\b  0%\b\b\b\b\b  OK \n",
            "Extracting  NumSchoolsMuniARMMDEPED2017.shp                              \b\b\b\b  0%\b\b\b\b  1%\b\b\b\b  2%\b\b\b\b  3%\b\b\b\b  4%\b\b\b\b  5%\b\b\b\b  6%\b\b\b\b  7%\b\b\b\b  8%\b\b\b\b  9%\b\b\b\b 10%\b\b\b\b 11%\b\b\b\b 12%\b\b\b\b 13%\b\b\b\b 14%\b\b\b\b 15%\b\b\b\b 16%\b\b\b\b 17%\b\b\b\b 18%\b\b\b\b 19%\b\b\b\b 20%\b\b\b\b 21%\b\b\b\b 22%\b\b\b\b 23%\b\b\b\b 24%\b\b\b\b 25%\b\b\b\b 26%\b\b\b\b 27%\b\b\b\b 28%\b\b\b\b 29%\b\b\b\b 30%\b\b\b\b 31%\b\b\b\b 32%\b\b\b\b 33%\b\b\b\b 34%\b\b\b\b 35%\b\b\b\b 36%\b\b\b\b 37%\b\b\b\b 38%\b\b\b\b 39%\b\b\b\b 40%\b\b\b\b 41%\b\b\b\b 42%\b\b\b\b 43%\b\b\b\b 44%\b\b\b\b 45%\b\b\b\b 46%\b\b\b\b 47%\b\b\b\b 48%\b\b\b\b 49%\b\b\b\b 50%\b\b\b\b 51%\b\b\b\b 52%\b\b\b\b 53%\b\b\b\b 54%\b\b\b\b 55%\b\b\b\b 56%\b\b\b\b 57%\b\b\b\b 58%\b\b\b\b 59%\b\b\b\b 60%\b\b\b\b 61%\b\b\b\b 62%\b\b\b\b 63%\b\b\b\b 64%\b\b\b\b 65%\b\b\b\b 66%\b\b\b\b 67%\b\b\b\b 68%\b\b\b\b 69%\b\b\b\b 70%\b\b\b\b 71%\b\b\b\b 72%\b\b\b\b 73%\b\b\b\b 74%\b\b\b\b 75%\b\b\b\b 76%\b\b\b\b 77%\b\b\b\b 78%\b\b\b\b 79%\b\b\b\b 80%\b\b\b\b 81%\b\b\b\b 82%\b\b\b\b 83%\b\b\b\b 84%\b\b\b\b 85%\b\b\b\b 86%\b\b\b\b 87%\b\b\b\b 88%\b\b\b\b 89%\b\b\b\b 90%\b\b\b\b 91%\b\b\b\b 92%\b\b\b\b 93%\b\b\b\b 94%\b\b\b\b 95%\b\b\b\b 96%\b\b\b\b 97%\b\b\b\b 98%\b\b\b\b 99%\b\b\b\b\b  OK \n",
            "Extracting  NumSchoolsMuniARMMDEPED2017.shx                              \b\b\b\b 99%\b\b\b\b\b  OK \n",
            "All OK\n"
          ],
          "name": "stdout"
        }
      ]
    },
    {
      "cell_type": "code",
      "metadata": {
        "id": "epcJJg6VXkfe",
        "colab_type": "code",
        "colab": {}
      },
      "source": [
        "fp = \"NumSchoolsMuniARMMDEPED2017.shp\"\n",
        "data = gpd.read_file(fp, SHAPE_RESTORE_SHX='YES')"
      ],
      "execution_count": 0,
      "outputs": []
    },
    {
      "cell_type": "code",
      "metadata": {
        "id": "m34X0zDtXyrR",
        "colab_type": "code",
        "colab": {}
      },
      "source": [
        "pd.DataFrame(data).to_csv('armm_schools.csv', index=False)"
      ],
      "execution_count": 0,
      "outputs": []
    },
    {
      "cell_type": "markdown",
      "metadata": {
        "id": "P4IP0cH_X0Yy",
        "colab_type": "text"
      },
      "source": [
        "# Storm Surge"
      ]
    },
    {
      "cell_type": "markdown",
      "metadata": {
        "id": "LqaIqEzyb6iw",
        "colab_type": "text"
      },
      "source": [
        "# Flood"
      ]
    },
    {
      "cell_type": "code",
      "metadata": {
        "id": "cr2US53Ibm-c",
        "colab_type": "code",
        "outputId": "b27a77c8-1d12-4006-8599-f2478d7eb23c",
        "colab": {
          "base_uri": "https://localhost:8080/",
          "height": 176
        }
      },
      "source": [
        "!unzip ARMM_flood.zip"
      ],
      "execution_count": 0,
      "outputs": [
        {
          "output_type": "stream",
          "text": [
            "Archive:  ARMM_flood.zip\n",
            "   creating: Hazards - Flood-prone Areas in BCT (MGB, 2015)/\n",
            " extracting: Hazards - Flood-prone Areas in BCT (MGB, 2015)/Hazards - Flood - BCT - MGB.cpg  \n",
            "  inflating: Hazards - Flood-prone Areas in BCT (MGB, 2015)/Hazards - Flood - BCT - MGB.dbf  \n",
            "  inflating: Hazards - Flood-prone Areas in BCT (MGB, 2015)/Hazards - Flood - BCT - MGB.prj  \n",
            "  inflating: Hazards - Flood-prone Areas in BCT (MGB, 2015)/Hazards - Flood - BCT - MGB.qpj  \n",
            "  inflating: Hazards - Flood-prone Areas in BCT (MGB, 2015)/Hazards - Flood - BCT - MGB.shp  \n",
            "  inflating: Hazards - Flood-prone Areas in BCT (MGB, 2015)/Hazards - Flood - BCT - MGB.shx  \n",
            "  inflating: Hazards - Flood-prone Areas in BCT (MGB, 2015)/Hazards - Flood - BCT - MGB.txt  \n"
          ],
          "name": "stdout"
        }
      ]
    },
    {
      "cell_type": "code",
      "metadata": {
        "id": "DL27ItkmbsOi",
        "colab_type": "code",
        "colab": {}
      },
      "source": [
        "fp = \"Hazards - Flood-prone Areas in BCT (MGB, 2015)/Hazards - Flood - BCT - MGB.shp\"\n",
        "data = gpd.read_file(fp, SHAPE_RESTORE_SHX='YES')"
      ],
      "execution_count": 0,
      "outputs": []
    },
    {
      "cell_type": "code",
      "metadata": {
        "id": "ph_onrVHbv7E",
        "colab_type": "code",
        "colab": {}
      },
      "source": [
        "pd.DataFrame(data).to_csv('armm_flood.csv', index=False)"
      ],
      "execution_count": 0,
      "outputs": []
    },
    {
      "cell_type": "code",
      "metadata": {
        "id": "2sauhOxWbxbR",
        "colab_type": "code",
        "colab": {}
      },
      "source": [
        "files.download('armm_flood.csv')"
      ],
      "execution_count": 0,
      "outputs": []
    },
    {
      "cell_type": "markdown",
      "metadata": {
        "id": "3W0ZC2Uab2v6",
        "colab_type": "text"
      },
      "source": [
        ""
      ]
    }
  ]
}