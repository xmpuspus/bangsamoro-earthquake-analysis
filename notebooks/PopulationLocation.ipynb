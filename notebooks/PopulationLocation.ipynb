{
  "nbformat": 4,
  "nbformat_minor": 0,
  "metadata": {
    "colab": {
      "name": "PopulationLocation.ipynb",
      "provenance": [],
      "collapsed_sections": []
    },
    "kernelspec": {
      "name": "python3",
      "display_name": "Python 3"
    }
  },
  "cells": [
    {
      "cell_type": "code",
      "metadata": {
        "id": "Gp6eDwj1eZN4",
        "colab_type": "code",
        "colab": {}
      },
      "source": [
        "import pandas as pd"
      ],
      "execution_count": 0,
      "outputs": []
    },
    {
      "cell_type": "code",
      "metadata": {
        "id": "rYf8SLlrlIbB",
        "colab_type": "code",
        "colab": {}
      },
      "source": [
        "data = pd.read_csv('data.csv')"
      ],
      "execution_count": 0,
      "outputs": []
    },
    {
      "cell_type": "code",
      "metadata": {
        "id": "WkXURPh0lJm8",
        "colab_type": "code",
        "outputId": "4fd250ab-0e72-4cc8-d01b-decbf8ab0d83",
        "colab": {
          "base_uri": "https://localhost:8080/",
          "height": 204
        }
      },
      "source": [
        "data.head()"
      ],
      "execution_count": 0,
      "outputs": [
        {
          "output_type": "execute_result",
          "data": {
            "text/html": [
              "<div>\n",
              "<style scoped>\n",
              "    .dataframe tbody tr th:only-of-type {\n",
              "        vertical-align: middle;\n",
              "    }\n",
              "\n",
              "    .dataframe tbody tr th {\n",
              "        vertical-align: top;\n",
              "    }\n",
              "\n",
              "    .dataframe thead th {\n",
              "        text-align: right;\n",
              "    }\n",
              "</style>\n",
              "<table border=\"1\" class=\"dataframe\">\n",
              "  <thead>\n",
              "    <tr style=\"text-align: right;\">\n",
              "      <th></th>\n",
              "      <th>asciiname</th>\n",
              "      <th>population</th>\n",
              "      <th>location</th>\n",
              "    </tr>\n",
              "  </thead>\n",
              "  <tbody>\n",
              "    <tr>\n",
              "      <th>0</th>\n",
              "      <td>Quezon City</td>\n",
              "      <td>2761720</td>\n",
              "      <td>https://www.google.com/maps/?q=14.6488,121.0509</td>\n",
              "    </tr>\n",
              "    <tr>\n",
              "      <th>1</th>\n",
              "      <td>Manila</td>\n",
              "      <td>1600000</td>\n",
              "      <td>https://www.google.com/maps/?q=14.6042,120.9822</td>\n",
              "    </tr>\n",
              "    <tr>\n",
              "      <th>2</th>\n",
              "      <td>Caloocan City</td>\n",
              "      <td>1500000</td>\n",
              "      <td>https://www.google.com/maps/?q=14.64953,120.96788</td>\n",
              "    </tr>\n",
              "    <tr>\n",
              "      <th>3</th>\n",
              "      <td>Budta</td>\n",
              "      <td>1273715</td>\n",
              "      <td>https://www.google.com/maps/?q=7.20417,124.43972</td>\n",
              "    </tr>\n",
              "    <tr>\n",
              "      <th>4</th>\n",
              "      <td>Davao</td>\n",
              "      <td>1212504</td>\n",
              "      <td>https://www.google.com/maps/?q=7.07306,125.61278</td>\n",
              "    </tr>\n",
              "  </tbody>\n",
              "</table>\n",
              "</div>"
            ],
            "text/plain": [
              "       asciiname  population                                           location\n",
              "0    Quezon City     2761720    https://www.google.com/maps/?q=14.6488,121.0509\n",
              "1         Manila     1600000    https://www.google.com/maps/?q=14.6042,120.9822\n",
              "2  Caloocan City     1500000  https://www.google.com/maps/?q=14.64953,120.96788\n",
              "3          Budta     1273715   https://www.google.com/maps/?q=7.20417,124.43972\n",
              "4          Davao     1212504   https://www.google.com/maps/?q=7.07306,125.61278"
            ]
          },
          "metadata": {
            "tags": []
          },
          "execution_count": 3
        }
      ]
    },
    {
      "cell_type": "code",
      "metadata": {
        "id": "bw9q9mxelPpJ",
        "colab_type": "code",
        "colab": {}
      },
      "source": [
        "data['latitude'] = data['location'].apply(lambda x: float(x.split(\",\")[-1]))\n",
        "data['longitude'] = data['location'].apply(lambda x: float(x.split(\",\")[-2].split(\"=\")[-1]))"
      ],
      "execution_count": 0,
      "outputs": []
    },
    {
      "cell_type": "code",
      "metadata": {
        "id": "pJhePxG6lSyo",
        "colab_type": "code",
        "outputId": "e42d2a4c-5c4f-44fe-b154-28e7bc2ee10d",
        "colab": {
          "base_uri": "https://localhost:8080/",
          "height": 204
        }
      },
      "source": [
        "data.head()"
      ],
      "execution_count": 0,
      "outputs": [
        {
          "output_type": "execute_result",
          "data": {
            "text/html": [
              "<div>\n",
              "<style scoped>\n",
              "    .dataframe tbody tr th:only-of-type {\n",
              "        vertical-align: middle;\n",
              "    }\n",
              "\n",
              "    .dataframe tbody tr th {\n",
              "        vertical-align: top;\n",
              "    }\n",
              "\n",
              "    .dataframe thead th {\n",
              "        text-align: right;\n",
              "    }\n",
              "</style>\n",
              "<table border=\"1\" class=\"dataframe\">\n",
              "  <thead>\n",
              "    <tr style=\"text-align: right;\">\n",
              "      <th></th>\n",
              "      <th>asciiname</th>\n",
              "      <th>population</th>\n",
              "      <th>location</th>\n",
              "      <th>latitude</th>\n",
              "      <th>longitude</th>\n",
              "    </tr>\n",
              "  </thead>\n",
              "  <tbody>\n",
              "    <tr>\n",
              "      <th>0</th>\n",
              "      <td>Quezon City</td>\n",
              "      <td>2761720</td>\n",
              "      <td>https://www.google.com/maps/?q=14.6488,121.0509</td>\n",
              "      <td>121.05090</td>\n",
              "      <td>14.64880</td>\n",
              "    </tr>\n",
              "    <tr>\n",
              "      <th>1</th>\n",
              "      <td>Manila</td>\n",
              "      <td>1600000</td>\n",
              "      <td>https://www.google.com/maps/?q=14.6042,120.9822</td>\n",
              "      <td>120.98220</td>\n",
              "      <td>14.60420</td>\n",
              "    </tr>\n",
              "    <tr>\n",
              "      <th>2</th>\n",
              "      <td>Caloocan City</td>\n",
              "      <td>1500000</td>\n",
              "      <td>https://www.google.com/maps/?q=14.64953,120.96788</td>\n",
              "      <td>120.96788</td>\n",
              "      <td>14.64953</td>\n",
              "    </tr>\n",
              "    <tr>\n",
              "      <th>3</th>\n",
              "      <td>Budta</td>\n",
              "      <td>1273715</td>\n",
              "      <td>https://www.google.com/maps/?q=7.20417,124.43972</td>\n",
              "      <td>124.43972</td>\n",
              "      <td>7.20417</td>\n",
              "    </tr>\n",
              "    <tr>\n",
              "      <th>4</th>\n",
              "      <td>Davao</td>\n",
              "      <td>1212504</td>\n",
              "      <td>https://www.google.com/maps/?q=7.07306,125.61278</td>\n",
              "      <td>125.61278</td>\n",
              "      <td>7.07306</td>\n",
              "    </tr>\n",
              "  </tbody>\n",
              "</table>\n",
              "</div>"
            ],
            "text/plain": [
              "       asciiname  population  ...   latitude  longitude\n",
              "0    Quezon City     2761720  ...  121.05090   14.64880\n",
              "1         Manila     1600000  ...  120.98220   14.60420\n",
              "2  Caloocan City     1500000  ...  120.96788   14.64953\n",
              "3          Budta     1273715  ...  124.43972    7.20417\n",
              "4          Davao     1212504  ...  125.61278    7.07306\n",
              "\n",
              "[5 rows x 5 columns]"
            ]
          },
          "metadata": {
            "tags": []
          },
          "execution_count": 13
        }
      ]
    },
    {
      "cell_type": "code",
      "metadata": {
        "id": "yeamx25zlqDA",
        "colab_type": "code",
        "outputId": "5dd05fa6-0885-45d7-95cb-41263de1d9ae",
        "colab": {
          "base_uri": "https://localhost:8080/",
          "height": 119
        }
      },
      "source": [
        "data.dtypes"
      ],
      "execution_count": 0,
      "outputs": [
        {
          "output_type": "execute_result",
          "data": {
            "text/plain": [
              "asciiname      object\n",
              "population      int64\n",
              "location       object\n",
              "latitude      float64\n",
              "longitude     float64\n",
              "dtype: object"
            ]
          },
          "metadata": {
            "tags": []
          },
          "execution_count": 14
        }
      ]
    },
    {
      "cell_type": "code",
      "metadata": {
        "id": "BxcwZXJLqX2O",
        "colab_type": "code",
        "colab": {}
      },
      "source": [
        "data.to_csv('pop_long_lat.csv', index=False)"
      ],
      "execution_count": 0,
      "outputs": []
    }
  ]
}